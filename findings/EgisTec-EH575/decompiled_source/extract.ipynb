{
 "cells": [
  {
   "cell_type": "code",
   "execution_count": 2,
   "id": "excited-hotel",
   "metadata": {},
   "outputs": [],
   "source": [
    "import re"
   ]
  },
  {
   "cell_type": "code",
   "execution_count": 3,
   "id": "suitable-andorra",
   "metadata": {},
   "outputs": [],
   "source": [
    "regex = re.compile(r'.*?\\s*(FUN_.*?)\\((.*?)\\)\\s*?{(?s:(.*?))\\n}')"
   ]
  },
  {
   "cell_type": "code",
   "execution_count": 6,
   "id": "interpreted-japanese",
   "metadata": {},
   "outputs": [],
   "source": [
    "with open('EgisTouchFP0575-ghdira.c') as f:\n",
    "    lines = f.read()\n",
    "\n",
    "functions = regex.findall(lines)"
   ]
  },
  {
   "cell_type": "code",
   "execution_count": 7,
   "id": "labeled-pierre",
   "metadata": {},
   "outputs": [
    {
     "name": "stdout",
     "output_type": "stream",
     "text": [
      "param  0 : 0\n",
      "param  1 : 198\n",
      "param  2 : 116\n",
      "param  3 : 69\n",
      "param  4 : 60\n",
      "param  5 : 23\n",
      "param  6 : 4\n",
      "param  7 : 0\n",
      "param  8 : 0\n",
      "param  9 : 0\n",
      "param  10 : 0\n",
      "param  11 : 0\n",
      "param  12 : 0\n",
      "param  13 : 0\n",
      "param  14 : 0\n",
      "param  15 : 0\n",
      "param  16 : 0\n",
      "param  17 : 0\n",
      "param  18 : 0\n",
      "param  19 : 0\n"
     ]
    }
   ],
   "source": [
    "for i in range(20):\n",
    "    print('param ', i, ':', sum(len(params.split(',')) == i for name, params, body in functions))"
   ]
  },
  {
   "cell_type": "code",
   "execution_count": 8,
   "id": "promotional-induction",
   "metadata": {},
   "outputs": [],
   "source": [
    "f = [[] for i in range(20)]\n",
    "\n",
    "for name, params, body in functions:    \n",
    "    params = [i.strip() for i in params.split(',')]\n",
    "    f[len(params)].append((name, params, body))"
   ]
  },
  {
   "cell_type": "code",
   "execution_count": 42,
   "id": "interim-boring",
   "metadata": {},
   "outputs": [
    {
     "name": "stdout",
     "output_type": "stream",
     "text": [
      "23 9\n",
      "['FUN_180005060', 'FUN_180005550', 'FUN_180005580', 'FUN_180005f20', 'FUN_180007ef0', 'FUN_180009b20', 'FUN_180009e30', 'FUN_18000cf00', 'FUN_1800167e0']\n"
     ]
    }
   ],
   "source": [
    "f5 = f[5]\n",
    "f5_purpose = list(filter(lambda x: 'int' in x[1][2] and 'int' in x[1][4] and not '*' in x[1][2] and not '*' in x[1][4], f5))\n",
    "\n",
    "print(len(f5), len(f5_purpose))\n",
    "\n",
    "print(list(map(lambda x: x[0], f5_purpose)))"
   ]
  },
  {
   "cell_type": "code",
   "execution_count": null,
   "id": "pursuant-defense",
   "metadata": {},
   "outputs": [],
   "source": [
    "print([list(map(lambda x: x[0], n_param_funcs)) for n_param_funcs in f])"
   ]
  },
  {
   "cell_type": "code",
   "execution_count": 13,
   "id": "novel-assumption",
   "metadata": {},
   "outputs": [],
   "source": [
    "import os\n",
    "if not os.path.isdir('f96'):\n",
    "    os.mkdir('f96')\n",
    "\n",
    "for name, params, body in four_param:\n",
    "    if 'int32_t' in params[2] and not 'struct' in params[1]:\n",
    "        with open('f96/' + name + '.txt', 'w') as f:\n",
    "            f.write(str(params))\n",
    "            f.write('\\n')\n",
    "            f.write('\\n')\n",
    "            f.write(body)"
   ]
  }
 ],
 "metadata": {
  "kernelspec": {
   "display_name": "Python 3",
   "language": "python",
   "name": "python3"
  },
  "language_info": {
   "codemirror_mode": {
    "name": "ipython",
    "version": 3
   },
   "file_extension": ".py",
   "mimetype": "text/x-python",
   "name": "python",
   "nbconvert_exporter": "python",
   "pygments_lexer": "ipython3",
   "version": "3.8.2"
  }
 },
 "nbformat": 4,
 "nbformat_minor": 5
}
